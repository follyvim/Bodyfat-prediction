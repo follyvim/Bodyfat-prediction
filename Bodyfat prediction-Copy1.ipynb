{
 "cells": [
  {
   "cell_type": "code",
   "execution_count": 1,
   "id": "e9f5c542-ed8d-4b42-b41b-b716b5b9596e",
   "metadata": {},
   "outputs": [],
   "source": [
    "import pandas as pd\n",
    "import numpy as np\n",
    "import seaborn as sns\n",
    "import matplotlib.pyplot as plt\n",
    "%matplotlib inline\n",
    "from sklearn.linear_model import  LinearRegression\n",
    "from sklearn.tree import DecisionTreeRegressor,plot_tree\n",
    "from sklearn.model_selection import train_test_split\n",
    "from sklearn.metrics import mean_squared_error\n",
    "from sklearn.preprocessing import StandardScaler\n",
    "from sklearn.ensemble import RandomForestRegressor,VotingRegressor\n",
    "\n",
    "data = pd.read_csv('bodyfat-Copy1.csv')"
   ]
  },
  {
   "cell_type": "code",
   "execution_count": 108,
   "id": "e4740c06-1c72-4f18-af41-3d41861f070b",
   "metadata": {},
   "outputs": [
    {
     "data": {
      "text/html": [
       "<div>\n",
       "<style scoped>\n",
       "    .dataframe tbody tr th:only-of-type {\n",
       "        vertical-align: middle;\n",
       "    }\n",
       "\n",
       "    .dataframe tbody tr th {\n",
       "        vertical-align: top;\n",
       "    }\n",
       "\n",
       "    .dataframe thead th {\n",
       "        text-align: right;\n",
       "    }\n",
       "</style>\n",
       "<table border=\"1\" class=\"dataframe\">\n",
       "  <thead>\n",
       "    <tr style=\"text-align: right;\">\n",
       "      <th></th>\n",
       "      <th>Density</th>\n",
       "      <th>BodyFat</th>\n",
       "      <th>Age</th>\n",
       "      <th>Weight</th>\n",
       "      <th>Height</th>\n",
       "      <th>Neck</th>\n",
       "      <th>Chest</th>\n",
       "      <th>Abdomen</th>\n",
       "      <th>Hip</th>\n",
       "      <th>Thigh</th>\n",
       "      <th>Knee</th>\n",
       "      <th>Ankle</th>\n",
       "      <th>Biceps</th>\n",
       "      <th>Forearm</th>\n",
       "      <th>Wrist</th>\n",
       "    </tr>\n",
       "  </thead>\n",
       "  <tbody>\n",
       "    <tr>\n",
       "      <th>0</th>\n",
       "      <td>1.0708</td>\n",
       "      <td>12.3</td>\n",
       "      <td>23</td>\n",
       "      <td>154.25</td>\n",
       "      <td>67.75</td>\n",
       "      <td>36.2</td>\n",
       "      <td>93.1</td>\n",
       "      <td>85.2</td>\n",
       "      <td>94.5</td>\n",
       "      <td>59.0</td>\n",
       "      <td>37.3</td>\n",
       "      <td>21.9</td>\n",
       "      <td>32.0</td>\n",
       "      <td>27.4</td>\n",
       "      <td>17.1</td>\n",
       "    </tr>\n",
       "    <tr>\n",
       "      <th>1</th>\n",
       "      <td>1.0853</td>\n",
       "      <td>6.1</td>\n",
       "      <td>22</td>\n",
       "      <td>173.25</td>\n",
       "      <td>72.25</td>\n",
       "      <td>38.5</td>\n",
       "      <td>93.6</td>\n",
       "      <td>83.0</td>\n",
       "      <td>98.7</td>\n",
       "      <td>58.7</td>\n",
       "      <td>37.3</td>\n",
       "      <td>23.4</td>\n",
       "      <td>30.5</td>\n",
       "      <td>28.9</td>\n",
       "      <td>18.2</td>\n",
       "    </tr>\n",
       "    <tr>\n",
       "      <th>2</th>\n",
       "      <td>1.0414</td>\n",
       "      <td>25.3</td>\n",
       "      <td>22</td>\n",
       "      <td>154.00</td>\n",
       "      <td>66.25</td>\n",
       "      <td>34.0</td>\n",
       "      <td>95.8</td>\n",
       "      <td>87.9</td>\n",
       "      <td>99.2</td>\n",
       "      <td>59.6</td>\n",
       "      <td>38.9</td>\n",
       "      <td>24.0</td>\n",
       "      <td>28.8</td>\n",
       "      <td>25.2</td>\n",
       "      <td>16.6</td>\n",
       "    </tr>\n",
       "    <tr>\n",
       "      <th>3</th>\n",
       "      <td>1.0751</td>\n",
       "      <td>10.4</td>\n",
       "      <td>26</td>\n",
       "      <td>184.75</td>\n",
       "      <td>72.25</td>\n",
       "      <td>37.4</td>\n",
       "      <td>101.8</td>\n",
       "      <td>86.4</td>\n",
       "      <td>101.2</td>\n",
       "      <td>60.1</td>\n",
       "      <td>37.3</td>\n",
       "      <td>22.8</td>\n",
       "      <td>32.4</td>\n",
       "      <td>29.4</td>\n",
       "      <td>18.2</td>\n",
       "    </tr>\n",
       "    <tr>\n",
       "      <th>4</th>\n",
       "      <td>1.0340</td>\n",
       "      <td>28.7</td>\n",
       "      <td>24</td>\n",
       "      <td>184.25</td>\n",
       "      <td>71.25</td>\n",
       "      <td>34.4</td>\n",
       "      <td>97.3</td>\n",
       "      <td>100.0</td>\n",
       "      <td>101.9</td>\n",
       "      <td>63.2</td>\n",
       "      <td>42.2</td>\n",
       "      <td>24.0</td>\n",
       "      <td>32.2</td>\n",
       "      <td>27.7</td>\n",
       "      <td>17.7</td>\n",
       "    </tr>\n",
       "  </tbody>\n",
       "</table>\n",
       "</div>"
      ],
      "text/plain": [
       "   Density  BodyFat  Age  Weight  Height  Neck  Chest  Abdomen    Hip  Thigh  \\\n",
       "0   1.0708     12.3   23  154.25   67.75  36.2   93.1     85.2   94.5   59.0   \n",
       "1   1.0853      6.1   22  173.25   72.25  38.5   93.6     83.0   98.7   58.7   \n",
       "2   1.0414     25.3   22  154.00   66.25  34.0   95.8     87.9   99.2   59.6   \n",
       "3   1.0751     10.4   26  184.75   72.25  37.4  101.8     86.4  101.2   60.1   \n",
       "4   1.0340     28.7   24  184.25   71.25  34.4   97.3    100.0  101.9   63.2   \n",
       "\n",
       "   Knee  Ankle  Biceps  Forearm  Wrist  \n",
       "0  37.3   21.9    32.0     27.4   17.1  \n",
       "1  37.3   23.4    30.5     28.9   18.2  \n",
       "2  38.9   24.0    28.8     25.2   16.6  \n",
       "3  37.3   22.8    32.4     29.4   18.2  \n",
       "4  42.2   24.0    32.2     27.7   17.7  "
      ]
     },
     "execution_count": 108,
     "metadata": {},
     "output_type": "execute_result"
    }
   ],
   "source": [
    "data.head()"
   ]
  },
  {
   "cell_type": "code",
   "execution_count": 109,
   "id": "bf7747f3-2e6f-44a6-8117-d2ac80920a71",
   "metadata": {},
   "outputs": [
    {
     "data": {
      "text/plain": [
       "Density    0\n",
       "BodyFat    0\n",
       "Age        0\n",
       "Weight     0\n",
       "Height     0\n",
       "Neck       0\n",
       "Chest      0\n",
       "Abdomen    0\n",
       "Hip        0\n",
       "Thigh      0\n",
       "Knee       0\n",
       "Ankle      0\n",
       "Biceps     0\n",
       "Forearm    0\n",
       "Wrist      0\n",
       "dtype: int64"
      ]
     },
     "execution_count": 109,
     "metadata": {},
     "output_type": "execute_result"
    }
   ],
   "source": [
    "data.isnull().sum()"
   ]
  },
  {
   "cell_type": "code",
   "execution_count": 110,
   "id": "ca175e2c-4871-4a34-9d8c-d5ce47eed7ae",
   "metadata": {},
   "outputs": [
    {
     "name": "stdout",
     "output_type": "stream",
     "text": [
      "<class 'pandas.core.frame.DataFrame'>\n",
      "RangeIndex: 252 entries, 0 to 251\n",
      "Data columns (total 15 columns):\n",
      " #   Column   Non-Null Count  Dtype  \n",
      "---  ------   --------------  -----  \n",
      " 0   Density  252 non-null    float64\n",
      " 1   BodyFat  252 non-null    float64\n",
      " 2   Age      252 non-null    int64  \n",
      " 3   Weight   252 non-null    float64\n",
      " 4   Height   252 non-null    float64\n",
      " 5   Neck     252 non-null    float64\n",
      " 6   Chest    252 non-null    float64\n",
      " 7   Abdomen  252 non-null    float64\n",
      " 8   Hip      252 non-null    float64\n",
      " 9   Thigh    252 non-null    float64\n",
      " 10  Knee     252 non-null    float64\n",
      " 11  Ankle    252 non-null    float64\n",
      " 12  Biceps   252 non-null    float64\n",
      " 13  Forearm  252 non-null    float64\n",
      " 14  Wrist    252 non-null    float64\n",
      "dtypes: float64(14), int64(1)\n",
      "memory usage: 29.7 KB\n"
     ]
    }
   ],
   "source": [
    "data.info()"
   ]
  },
  {
   "cell_type": "code",
   "execution_count": 111,
   "id": "ff8174c4-2d44-45d7-b2e5-82b68304fc39",
   "metadata": {},
   "outputs": [
    {
     "data": {
      "text/html": [
       "<div>\n",
       "<style scoped>\n",
       "    .dataframe tbody tr th:only-of-type {\n",
       "        vertical-align: middle;\n",
       "    }\n",
       "\n",
       "    .dataframe tbody tr th {\n",
       "        vertical-align: top;\n",
       "    }\n",
       "\n",
       "    .dataframe thead th {\n",
       "        text-align: right;\n",
       "    }\n",
       "</style>\n",
       "<table border=\"1\" class=\"dataframe\">\n",
       "  <thead>\n",
       "    <tr style=\"text-align: right;\">\n",
       "      <th></th>\n",
       "      <th>Density</th>\n",
       "      <th>BodyFat</th>\n",
       "      <th>Age</th>\n",
       "      <th>Weight</th>\n",
       "      <th>Height</th>\n",
       "      <th>Neck</th>\n",
       "      <th>Chest</th>\n",
       "      <th>Abdomen</th>\n",
       "      <th>Hip</th>\n",
       "      <th>Thigh</th>\n",
       "      <th>Knee</th>\n",
       "      <th>Ankle</th>\n",
       "      <th>Biceps</th>\n",
       "      <th>Forearm</th>\n",
       "      <th>Wrist</th>\n",
       "    </tr>\n",
       "  </thead>\n",
       "  <tbody>\n",
       "    <tr>\n",
       "      <th>Density</th>\n",
       "      <td>1.000000</td>\n",
       "      <td>-0.987782</td>\n",
       "      <td>-0.277637</td>\n",
       "      <td>-0.594062</td>\n",
       "      <td>0.097881</td>\n",
       "      <td>-0.472966</td>\n",
       "      <td>-0.682599</td>\n",
       "      <td>-0.798955</td>\n",
       "      <td>-0.609331</td>\n",
       "      <td>-0.553091</td>\n",
       "      <td>-0.495040</td>\n",
       "      <td>-0.264890</td>\n",
       "      <td>-0.487109</td>\n",
       "      <td>-0.351648</td>\n",
       "      <td>-0.325716</td>\n",
       "    </tr>\n",
       "    <tr>\n",
       "      <th>BodyFat</th>\n",
       "      <td>-0.987782</td>\n",
       "      <td>1.000000</td>\n",
       "      <td>0.291458</td>\n",
       "      <td>0.612414</td>\n",
       "      <td>-0.089495</td>\n",
       "      <td>0.490592</td>\n",
       "      <td>0.702620</td>\n",
       "      <td>0.813432</td>\n",
       "      <td>0.625201</td>\n",
       "      <td>0.559608</td>\n",
       "      <td>0.508665</td>\n",
       "      <td>0.265970</td>\n",
       "      <td>0.493271</td>\n",
       "      <td>0.361387</td>\n",
       "      <td>0.346575</td>\n",
       "    </tr>\n",
       "    <tr>\n",
       "      <th>Age</th>\n",
       "      <td>-0.277637</td>\n",
       "      <td>0.291458</td>\n",
       "      <td>1.000000</td>\n",
       "      <td>-0.012746</td>\n",
       "      <td>-0.171645</td>\n",
       "      <td>0.113505</td>\n",
       "      <td>0.176450</td>\n",
       "      <td>0.230409</td>\n",
       "      <td>-0.050332</td>\n",
       "      <td>-0.200096</td>\n",
       "      <td>0.017516</td>\n",
       "      <td>-0.105058</td>\n",
       "      <td>-0.041162</td>\n",
       "      <td>-0.085056</td>\n",
       "      <td>0.213531</td>\n",
       "    </tr>\n",
       "    <tr>\n",
       "      <th>Weight</th>\n",
       "      <td>-0.594062</td>\n",
       "      <td>0.612414</td>\n",
       "      <td>-0.012746</td>\n",
       "      <td>1.000000</td>\n",
       "      <td>0.308279</td>\n",
       "      <td>0.830716</td>\n",
       "      <td>0.894191</td>\n",
       "      <td>0.887995</td>\n",
       "      <td>0.940884</td>\n",
       "      <td>0.868694</td>\n",
       "      <td>0.853167</td>\n",
       "      <td>0.613685</td>\n",
       "      <td>0.800416</td>\n",
       "      <td>0.630301</td>\n",
       "      <td>0.729775</td>\n",
       "    </tr>\n",
       "    <tr>\n",
       "      <th>Height</th>\n",
       "      <td>0.097881</td>\n",
       "      <td>-0.089495</td>\n",
       "      <td>-0.171645</td>\n",
       "      <td>0.308279</td>\n",
       "      <td>1.000000</td>\n",
       "      <td>0.253710</td>\n",
       "      <td>0.134892</td>\n",
       "      <td>0.087813</td>\n",
       "      <td>0.170394</td>\n",
       "      <td>0.148436</td>\n",
       "      <td>0.286053</td>\n",
       "      <td>0.264744</td>\n",
       "      <td>0.207816</td>\n",
       "      <td>0.228649</td>\n",
       "      <td>0.322065</td>\n",
       "    </tr>\n",
       "    <tr>\n",
       "      <th>Neck</th>\n",
       "      <td>-0.472966</td>\n",
       "      <td>0.490592</td>\n",
       "      <td>0.113505</td>\n",
       "      <td>0.830716</td>\n",
       "      <td>0.253710</td>\n",
       "      <td>1.000000</td>\n",
       "      <td>0.784835</td>\n",
       "      <td>0.754077</td>\n",
       "      <td>0.734958</td>\n",
       "      <td>0.695697</td>\n",
       "      <td>0.672405</td>\n",
       "      <td>0.477892</td>\n",
       "      <td>0.731146</td>\n",
       "      <td>0.623660</td>\n",
       "      <td>0.744826</td>\n",
       "    </tr>\n",
       "    <tr>\n",
       "      <th>Chest</th>\n",
       "      <td>-0.682599</td>\n",
       "      <td>0.702620</td>\n",
       "      <td>0.176450</td>\n",
       "      <td>0.894191</td>\n",
       "      <td>0.134892</td>\n",
       "      <td>0.784835</td>\n",
       "      <td>1.000000</td>\n",
       "      <td>0.915828</td>\n",
       "      <td>0.829420</td>\n",
       "      <td>0.729859</td>\n",
       "      <td>0.719496</td>\n",
       "      <td>0.482988</td>\n",
       "      <td>0.727907</td>\n",
       "      <td>0.580173</td>\n",
       "      <td>0.660162</td>\n",
       "    </tr>\n",
       "    <tr>\n",
       "      <th>Abdomen</th>\n",
       "      <td>-0.798955</td>\n",
       "      <td>0.813432</td>\n",
       "      <td>0.230409</td>\n",
       "      <td>0.887995</td>\n",
       "      <td>0.087813</td>\n",
       "      <td>0.754077</td>\n",
       "      <td>0.915828</td>\n",
       "      <td>1.000000</td>\n",
       "      <td>0.874066</td>\n",
       "      <td>0.766624</td>\n",
       "      <td>0.737179</td>\n",
       "      <td>0.453223</td>\n",
       "      <td>0.684983</td>\n",
       "      <td>0.503316</td>\n",
       "      <td>0.619832</td>\n",
       "    </tr>\n",
       "    <tr>\n",
       "      <th>Hip</th>\n",
       "      <td>-0.609331</td>\n",
       "      <td>0.625201</td>\n",
       "      <td>-0.050332</td>\n",
       "      <td>0.940884</td>\n",
       "      <td>0.170394</td>\n",
       "      <td>0.734958</td>\n",
       "      <td>0.829420</td>\n",
       "      <td>0.874066</td>\n",
       "      <td>1.000000</td>\n",
       "      <td>0.896410</td>\n",
       "      <td>0.823473</td>\n",
       "      <td>0.558387</td>\n",
       "      <td>0.739273</td>\n",
       "      <td>0.545014</td>\n",
       "      <td>0.630090</td>\n",
       "    </tr>\n",
       "    <tr>\n",
       "      <th>Thigh</th>\n",
       "      <td>-0.553091</td>\n",
       "      <td>0.559608</td>\n",
       "      <td>-0.200096</td>\n",
       "      <td>0.868694</td>\n",
       "      <td>0.148436</td>\n",
       "      <td>0.695697</td>\n",
       "      <td>0.729859</td>\n",
       "      <td>0.766624</td>\n",
       "      <td>0.896410</td>\n",
       "      <td>1.000000</td>\n",
       "      <td>0.799170</td>\n",
       "      <td>0.539797</td>\n",
       "      <td>0.761477</td>\n",
       "      <td>0.566842</td>\n",
       "      <td>0.558685</td>\n",
       "    </tr>\n",
       "    <tr>\n",
       "      <th>Knee</th>\n",
       "      <td>-0.495040</td>\n",
       "      <td>0.508665</td>\n",
       "      <td>0.017516</td>\n",
       "      <td>0.853167</td>\n",
       "      <td>0.286053</td>\n",
       "      <td>0.672405</td>\n",
       "      <td>0.719496</td>\n",
       "      <td>0.737179</td>\n",
       "      <td>0.823473</td>\n",
       "      <td>0.799170</td>\n",
       "      <td>1.000000</td>\n",
       "      <td>0.611608</td>\n",
       "      <td>0.678709</td>\n",
       "      <td>0.555898</td>\n",
       "      <td>0.664507</td>\n",
       "    </tr>\n",
       "    <tr>\n",
       "      <th>Ankle</th>\n",
       "      <td>-0.264890</td>\n",
       "      <td>0.265970</td>\n",
       "      <td>-0.105058</td>\n",
       "      <td>0.613685</td>\n",
       "      <td>0.264744</td>\n",
       "      <td>0.477892</td>\n",
       "      <td>0.482988</td>\n",
       "      <td>0.453223</td>\n",
       "      <td>0.558387</td>\n",
       "      <td>0.539797</td>\n",
       "      <td>0.611608</td>\n",
       "      <td>1.000000</td>\n",
       "      <td>0.484855</td>\n",
       "      <td>0.419050</td>\n",
       "      <td>0.566195</td>\n",
       "    </tr>\n",
       "    <tr>\n",
       "      <th>Biceps</th>\n",
       "      <td>-0.487109</td>\n",
       "      <td>0.493271</td>\n",
       "      <td>-0.041162</td>\n",
       "      <td>0.800416</td>\n",
       "      <td>0.207816</td>\n",
       "      <td>0.731146</td>\n",
       "      <td>0.727907</td>\n",
       "      <td>0.684983</td>\n",
       "      <td>0.739273</td>\n",
       "      <td>0.761477</td>\n",
       "      <td>0.678709</td>\n",
       "      <td>0.484855</td>\n",
       "      <td>1.000000</td>\n",
       "      <td>0.678255</td>\n",
       "      <td>0.632126</td>\n",
       "    </tr>\n",
       "    <tr>\n",
       "      <th>Forearm</th>\n",
       "      <td>-0.351648</td>\n",
       "      <td>0.361387</td>\n",
       "      <td>-0.085056</td>\n",
       "      <td>0.630301</td>\n",
       "      <td>0.228649</td>\n",
       "      <td>0.623660</td>\n",
       "      <td>0.580173</td>\n",
       "      <td>0.503316</td>\n",
       "      <td>0.545014</td>\n",
       "      <td>0.566842</td>\n",
       "      <td>0.555898</td>\n",
       "      <td>0.419050</td>\n",
       "      <td>0.678255</td>\n",
       "      <td>1.000000</td>\n",
       "      <td>0.585588</td>\n",
       "    </tr>\n",
       "    <tr>\n",
       "      <th>Wrist</th>\n",
       "      <td>-0.325716</td>\n",
       "      <td>0.346575</td>\n",
       "      <td>0.213531</td>\n",
       "      <td>0.729775</td>\n",
       "      <td>0.322065</td>\n",
       "      <td>0.744826</td>\n",
       "      <td>0.660162</td>\n",
       "      <td>0.619832</td>\n",
       "      <td>0.630090</td>\n",
       "      <td>0.558685</td>\n",
       "      <td>0.664507</td>\n",
       "      <td>0.566195</td>\n",
       "      <td>0.632126</td>\n",
       "      <td>0.585588</td>\n",
       "      <td>1.000000</td>\n",
       "    </tr>\n",
       "  </tbody>\n",
       "</table>\n",
       "</div>"
      ],
      "text/plain": [
       "          Density   BodyFat       Age    Weight    Height      Neck     Chest  \\\n",
       "Density  1.000000 -0.987782 -0.277637 -0.594062  0.097881 -0.472966 -0.682599   \n",
       "BodyFat -0.987782  1.000000  0.291458  0.612414 -0.089495  0.490592  0.702620   \n",
       "Age     -0.277637  0.291458  1.000000 -0.012746 -0.171645  0.113505  0.176450   \n",
       "Weight  -0.594062  0.612414 -0.012746  1.000000  0.308279  0.830716  0.894191   \n",
       "Height   0.097881 -0.089495 -0.171645  0.308279  1.000000  0.253710  0.134892   \n",
       "Neck    -0.472966  0.490592  0.113505  0.830716  0.253710  1.000000  0.784835   \n",
       "Chest   -0.682599  0.702620  0.176450  0.894191  0.134892  0.784835  1.000000   \n",
       "Abdomen -0.798955  0.813432  0.230409  0.887995  0.087813  0.754077  0.915828   \n",
       "Hip     -0.609331  0.625201 -0.050332  0.940884  0.170394  0.734958  0.829420   \n",
       "Thigh   -0.553091  0.559608 -0.200096  0.868694  0.148436  0.695697  0.729859   \n",
       "Knee    -0.495040  0.508665  0.017516  0.853167  0.286053  0.672405  0.719496   \n",
       "Ankle   -0.264890  0.265970 -0.105058  0.613685  0.264744  0.477892  0.482988   \n",
       "Biceps  -0.487109  0.493271 -0.041162  0.800416  0.207816  0.731146  0.727907   \n",
       "Forearm -0.351648  0.361387 -0.085056  0.630301  0.228649  0.623660  0.580173   \n",
       "Wrist   -0.325716  0.346575  0.213531  0.729775  0.322065  0.744826  0.660162   \n",
       "\n",
       "          Abdomen       Hip     Thigh      Knee     Ankle    Biceps   Forearm  \\\n",
       "Density -0.798955 -0.609331 -0.553091 -0.495040 -0.264890 -0.487109 -0.351648   \n",
       "BodyFat  0.813432  0.625201  0.559608  0.508665  0.265970  0.493271  0.361387   \n",
       "Age      0.230409 -0.050332 -0.200096  0.017516 -0.105058 -0.041162 -0.085056   \n",
       "Weight   0.887995  0.940884  0.868694  0.853167  0.613685  0.800416  0.630301   \n",
       "Height   0.087813  0.170394  0.148436  0.286053  0.264744  0.207816  0.228649   \n",
       "Neck     0.754077  0.734958  0.695697  0.672405  0.477892  0.731146  0.623660   \n",
       "Chest    0.915828  0.829420  0.729859  0.719496  0.482988  0.727907  0.580173   \n",
       "Abdomen  1.000000  0.874066  0.766624  0.737179  0.453223  0.684983  0.503316   \n",
       "Hip      0.874066  1.000000  0.896410  0.823473  0.558387  0.739273  0.545014   \n",
       "Thigh    0.766624  0.896410  1.000000  0.799170  0.539797  0.761477  0.566842   \n",
       "Knee     0.737179  0.823473  0.799170  1.000000  0.611608  0.678709  0.555898   \n",
       "Ankle    0.453223  0.558387  0.539797  0.611608  1.000000  0.484855  0.419050   \n",
       "Biceps   0.684983  0.739273  0.761477  0.678709  0.484855  1.000000  0.678255   \n",
       "Forearm  0.503316  0.545014  0.566842  0.555898  0.419050  0.678255  1.000000   \n",
       "Wrist    0.619832  0.630090  0.558685  0.664507  0.566195  0.632126  0.585588   \n",
       "\n",
       "            Wrist  \n",
       "Density -0.325716  \n",
       "BodyFat  0.346575  \n",
       "Age      0.213531  \n",
       "Weight   0.729775  \n",
       "Height   0.322065  \n",
       "Neck     0.744826  \n",
       "Chest    0.660162  \n",
       "Abdomen  0.619832  \n",
       "Hip      0.630090  \n",
       "Thigh    0.558685  \n",
       "Knee     0.664507  \n",
       "Ankle    0.566195  \n",
       "Biceps   0.632126  \n",
       "Forearm  0.585588  \n",
       "Wrist    1.000000  "
      ]
     },
     "execution_count": 111,
     "metadata": {},
     "output_type": "execute_result"
    }
   ],
   "source": [
    "data.corr()"
   ]
  },
  {
   "cell_type": "code",
   "execution_count": 112,
   "id": "e6323772-cc49-402e-a3de-dc5840e2bca6",
   "metadata": {},
   "outputs": [
    {
     "data": {
      "text/html": [
       "<div>\n",
       "<style scoped>\n",
       "    .dataframe tbody tr th:only-of-type {\n",
       "        vertical-align: middle;\n",
       "    }\n",
       "\n",
       "    .dataframe tbody tr th {\n",
       "        vertical-align: top;\n",
       "    }\n",
       "\n",
       "    .dataframe thead th {\n",
       "        text-align: right;\n",
       "    }\n",
       "</style>\n",
       "<table border=\"1\" class=\"dataframe\">\n",
       "  <thead>\n",
       "    <tr style=\"text-align: right;\">\n",
       "      <th></th>\n",
       "      <th>Density</th>\n",
       "      <th>BodyFat</th>\n",
       "      <th>Age</th>\n",
       "      <th>Weight</th>\n",
       "      <th>Height</th>\n",
       "      <th>Neck</th>\n",
       "      <th>Chest</th>\n",
       "      <th>Abdomen</th>\n",
       "      <th>Hip</th>\n",
       "      <th>Thigh</th>\n",
       "      <th>Knee</th>\n",
       "      <th>Ankle</th>\n",
       "      <th>Biceps</th>\n",
       "      <th>Forearm</th>\n",
       "      <th>Wrist</th>\n",
       "    </tr>\n",
       "  </thead>\n",
       "  <tbody>\n",
       "    <tr>\n",
       "      <th>count</th>\n",
       "      <td>252.000000</td>\n",
       "      <td>252.000000</td>\n",
       "      <td>252.000000</td>\n",
       "      <td>252.000000</td>\n",
       "      <td>252.000000</td>\n",
       "      <td>252.000000</td>\n",
       "      <td>252.000000</td>\n",
       "      <td>252.000000</td>\n",
       "      <td>252.000000</td>\n",
       "      <td>252.000000</td>\n",
       "      <td>252.000000</td>\n",
       "      <td>252.000000</td>\n",
       "      <td>252.000000</td>\n",
       "      <td>252.000000</td>\n",
       "      <td>252.000000</td>\n",
       "    </tr>\n",
       "    <tr>\n",
       "      <th>mean</th>\n",
       "      <td>1.055574</td>\n",
       "      <td>19.150794</td>\n",
       "      <td>44.884921</td>\n",
       "      <td>178.924405</td>\n",
       "      <td>70.148810</td>\n",
       "      <td>37.992063</td>\n",
       "      <td>100.824206</td>\n",
       "      <td>92.555952</td>\n",
       "      <td>99.904762</td>\n",
       "      <td>59.405952</td>\n",
       "      <td>38.590476</td>\n",
       "      <td>23.102381</td>\n",
       "      <td>32.273413</td>\n",
       "      <td>28.663889</td>\n",
       "      <td>18.229762</td>\n",
       "    </tr>\n",
       "    <tr>\n",
       "      <th>std</th>\n",
       "      <td>0.019031</td>\n",
       "      <td>8.368740</td>\n",
       "      <td>12.602040</td>\n",
       "      <td>29.389160</td>\n",
       "      <td>3.662856</td>\n",
       "      <td>2.430913</td>\n",
       "      <td>8.430476</td>\n",
       "      <td>10.783077</td>\n",
       "      <td>7.164058</td>\n",
       "      <td>5.249952</td>\n",
       "      <td>2.411805</td>\n",
       "      <td>1.694893</td>\n",
       "      <td>3.021274</td>\n",
       "      <td>2.020691</td>\n",
       "      <td>0.933585</td>\n",
       "    </tr>\n",
       "    <tr>\n",
       "      <th>min</th>\n",
       "      <td>0.995000</td>\n",
       "      <td>0.000000</td>\n",
       "      <td>22.000000</td>\n",
       "      <td>118.500000</td>\n",
       "      <td>29.500000</td>\n",
       "      <td>31.100000</td>\n",
       "      <td>79.300000</td>\n",
       "      <td>69.400000</td>\n",
       "      <td>85.000000</td>\n",
       "      <td>47.200000</td>\n",
       "      <td>33.000000</td>\n",
       "      <td>19.100000</td>\n",
       "      <td>24.800000</td>\n",
       "      <td>21.000000</td>\n",
       "      <td>15.800000</td>\n",
       "    </tr>\n",
       "    <tr>\n",
       "      <th>25%</th>\n",
       "      <td>1.041400</td>\n",
       "      <td>12.475000</td>\n",
       "      <td>35.750000</td>\n",
       "      <td>159.000000</td>\n",
       "      <td>68.250000</td>\n",
       "      <td>36.400000</td>\n",
       "      <td>94.350000</td>\n",
       "      <td>84.575000</td>\n",
       "      <td>95.500000</td>\n",
       "      <td>56.000000</td>\n",
       "      <td>36.975000</td>\n",
       "      <td>22.000000</td>\n",
       "      <td>30.200000</td>\n",
       "      <td>27.300000</td>\n",
       "      <td>17.600000</td>\n",
       "    </tr>\n",
       "    <tr>\n",
       "      <th>50%</th>\n",
       "      <td>1.054900</td>\n",
       "      <td>19.200000</td>\n",
       "      <td>43.000000</td>\n",
       "      <td>176.500000</td>\n",
       "      <td>70.000000</td>\n",
       "      <td>38.000000</td>\n",
       "      <td>99.650000</td>\n",
       "      <td>90.950000</td>\n",
       "      <td>99.300000</td>\n",
       "      <td>59.000000</td>\n",
       "      <td>38.500000</td>\n",
       "      <td>22.800000</td>\n",
       "      <td>32.050000</td>\n",
       "      <td>28.700000</td>\n",
       "      <td>18.300000</td>\n",
       "    </tr>\n",
       "    <tr>\n",
       "      <th>75%</th>\n",
       "      <td>1.070400</td>\n",
       "      <td>25.300000</td>\n",
       "      <td>54.000000</td>\n",
       "      <td>197.000000</td>\n",
       "      <td>72.250000</td>\n",
       "      <td>39.425000</td>\n",
       "      <td>105.375000</td>\n",
       "      <td>99.325000</td>\n",
       "      <td>103.525000</td>\n",
       "      <td>62.350000</td>\n",
       "      <td>39.925000</td>\n",
       "      <td>24.000000</td>\n",
       "      <td>34.325000</td>\n",
       "      <td>30.000000</td>\n",
       "      <td>18.800000</td>\n",
       "    </tr>\n",
       "    <tr>\n",
       "      <th>max</th>\n",
       "      <td>1.108900</td>\n",
       "      <td>47.500000</td>\n",
       "      <td>81.000000</td>\n",
       "      <td>363.150000</td>\n",
       "      <td>77.750000</td>\n",
       "      <td>51.200000</td>\n",
       "      <td>136.200000</td>\n",
       "      <td>148.100000</td>\n",
       "      <td>147.700000</td>\n",
       "      <td>87.300000</td>\n",
       "      <td>49.100000</td>\n",
       "      <td>33.900000</td>\n",
       "      <td>45.000000</td>\n",
       "      <td>34.900000</td>\n",
       "      <td>21.400000</td>\n",
       "    </tr>\n",
       "  </tbody>\n",
       "</table>\n",
       "</div>"
      ],
      "text/plain": [
       "          Density     BodyFat         Age      Weight      Height        Neck  \\\n",
       "count  252.000000  252.000000  252.000000  252.000000  252.000000  252.000000   \n",
       "mean     1.055574   19.150794   44.884921  178.924405   70.148810   37.992063   \n",
       "std      0.019031    8.368740   12.602040   29.389160    3.662856    2.430913   \n",
       "min      0.995000    0.000000   22.000000  118.500000   29.500000   31.100000   \n",
       "25%      1.041400   12.475000   35.750000  159.000000   68.250000   36.400000   \n",
       "50%      1.054900   19.200000   43.000000  176.500000   70.000000   38.000000   \n",
       "75%      1.070400   25.300000   54.000000  197.000000   72.250000   39.425000   \n",
       "max      1.108900   47.500000   81.000000  363.150000   77.750000   51.200000   \n",
       "\n",
       "            Chest     Abdomen         Hip       Thigh        Knee       Ankle  \\\n",
       "count  252.000000  252.000000  252.000000  252.000000  252.000000  252.000000   \n",
       "mean   100.824206   92.555952   99.904762   59.405952   38.590476   23.102381   \n",
       "std      8.430476   10.783077    7.164058    5.249952    2.411805    1.694893   \n",
       "min     79.300000   69.400000   85.000000   47.200000   33.000000   19.100000   \n",
       "25%     94.350000   84.575000   95.500000   56.000000   36.975000   22.000000   \n",
       "50%     99.650000   90.950000   99.300000   59.000000   38.500000   22.800000   \n",
       "75%    105.375000   99.325000  103.525000   62.350000   39.925000   24.000000   \n",
       "max    136.200000  148.100000  147.700000   87.300000   49.100000   33.900000   \n",
       "\n",
       "           Biceps     Forearm       Wrist  \n",
       "count  252.000000  252.000000  252.000000  \n",
       "mean    32.273413   28.663889   18.229762  \n",
       "std      3.021274    2.020691    0.933585  \n",
       "min     24.800000   21.000000   15.800000  \n",
       "25%     30.200000   27.300000   17.600000  \n",
       "50%     32.050000   28.700000   18.300000  \n",
       "75%     34.325000   30.000000   18.800000  \n",
       "max     45.000000   34.900000   21.400000  "
      ]
     },
     "execution_count": 112,
     "metadata": {},
     "output_type": "execute_result"
    }
   ],
   "source": [
    "data.describe()"
   ]
  },
  {
   "cell_type": "code",
   "execution_count": 113,
   "id": "f644100e-7c63-4a5e-a139-97143e4db4a6",
   "metadata": {},
   "outputs": [],
   "source": [
    "X=data[['Biceps','Knee','Thigh','Hip','Abdomen','Chest','Weight']]\n",
    "y=data['BodyFat']"
   ]
  },
  {
   "cell_type": "code",
   "execution_count": 114,
   "id": "961118ba-d0be-4773-88e5-fbc7d2c13a81",
   "metadata": {},
   "outputs": [
    {
     "data": {
      "text/plain": [
       "(252, 7)"
      ]
     },
     "execution_count": 114,
     "metadata": {},
     "output_type": "execute_result"
    }
   ],
   "source": [
    "X.shape"
   ]
  },
  {
   "cell_type": "code",
   "execution_count": 115,
   "id": "89e630b8-68ee-4cad-bdad-1bf0758dca90",
   "metadata": {},
   "outputs": [
    {
     "data": {
      "text/html": [
       "<div>\n",
       "<style scoped>\n",
       "    .dataframe tbody tr th:only-of-type {\n",
       "        vertical-align: middle;\n",
       "    }\n",
       "\n",
       "    .dataframe tbody tr th {\n",
       "        vertical-align: top;\n",
       "    }\n",
       "\n",
       "    .dataframe thead th {\n",
       "        text-align: right;\n",
       "    }\n",
       "</style>\n",
       "<table border=\"1\" class=\"dataframe\">\n",
       "  <thead>\n",
       "    <tr style=\"text-align: right;\">\n",
       "      <th></th>\n",
       "      <th>Biceps</th>\n",
       "      <th>Knee</th>\n",
       "      <th>Thigh</th>\n",
       "      <th>Hip</th>\n",
       "      <th>Abdomen</th>\n",
       "      <th>Chest</th>\n",
       "      <th>Weight</th>\n",
       "    </tr>\n",
       "  </thead>\n",
       "  <tbody>\n",
       "    <tr>\n",
       "      <th>239</th>\n",
       "      <td>35.9</td>\n",
       "      <td>38.1</td>\n",
       "      <td>59.2</td>\n",
       "      <td>100.5</td>\n",
       "      <td>100.5</td>\n",
       "      <td>106.4</td>\n",
       "      <td>189.75</td>\n",
       "    </tr>\n",
       "    <tr>\n",
       "      <th>210</th>\n",
       "      <td>30.9</td>\n",
       "      <td>35.0</td>\n",
       "      <td>51.1</td>\n",
       "      <td>89.0</td>\n",
       "      <td>79.4</td>\n",
       "      <td>91.2</td>\n",
       "      <td>140.50</td>\n",
       "    </tr>\n",
       "    <tr>\n",
       "      <th>233</th>\n",
       "      <td>27.8</td>\n",
       "      <td>35.9</td>\n",
       "      <td>56.8</td>\n",
       "      <td>100.2</td>\n",
       "      <td>94.9</td>\n",
       "      <td>94.9</td>\n",
       "      <td>161.75</td>\n",
       "    </tr>\n",
       "    <tr>\n",
       "      <th>78</th>\n",
       "      <td>31.4</td>\n",
       "      <td>37.5</td>\n",
       "      <td>53.5</td>\n",
       "      <td>99.3</td>\n",
       "      <td>95.4</td>\n",
       "      <td>96.4</td>\n",
       "      <td>161.25</td>\n",
       "    </tr>\n",
       "    <tr>\n",
       "      <th>25</th>\n",
       "      <td>29.9</td>\n",
       "      <td>36.7</td>\n",
       "      <td>55.0</td>\n",
       "      <td>96.5</td>\n",
       "      <td>79.7</td>\n",
       "      <td>89.6</td>\n",
       "      <td>159.25</td>\n",
       "    </tr>\n",
       "    <tr>\n",
       "      <th>...</th>\n",
       "      <td>...</td>\n",
       "      <td>...</td>\n",
       "      <td>...</td>\n",
       "      <td>...</td>\n",
       "      <td>...</td>\n",
       "      <td>...</td>\n",
       "      <td>...</td>\n",
       "    </tr>\n",
       "    <tr>\n",
       "      <th>64</th>\n",
       "      <td>35.3</td>\n",
       "      <td>41.2</td>\n",
       "      <td>65.0</td>\n",
       "      <td>108.3</td>\n",
       "      <td>105.5</td>\n",
       "      <td>105.3</td>\n",
       "      <td>205.50</td>\n",
       "    </tr>\n",
       "    <tr>\n",
       "      <th>15</th>\n",
       "      <td>31.1</td>\n",
       "      <td>38.7</td>\n",
       "      <td>63.1</td>\n",
       "      <td>99.2</td>\n",
       "      <td>92.8</td>\n",
       "      <td>99.1</td>\n",
       "      <td>162.75</td>\n",
       "    </tr>\n",
       "    <tr>\n",
       "      <th>228</th>\n",
       "      <td>34.6</td>\n",
       "      <td>37.4</td>\n",
       "      <td>58.4</td>\n",
       "      <td>98.4</td>\n",
       "      <td>89.4</td>\n",
       "      <td>104.0</td>\n",
       "      <td>174.50</td>\n",
       "    </tr>\n",
       "    <tr>\n",
       "      <th>125</th>\n",
       "      <td>35.6</td>\n",
       "      <td>36.0</td>\n",
       "      <td>60.7</td>\n",
       "      <td>100.0</td>\n",
       "      <td>89.9</td>\n",
       "      <td>101.0</td>\n",
       "      <td>167.00</td>\n",
       "    </tr>\n",
       "    <tr>\n",
       "      <th>9</th>\n",
       "      <td>35.6</td>\n",
       "      <td>41.7</td>\n",
       "      <td>63.1</td>\n",
       "      <td>104.1</td>\n",
       "      <td>88.6</td>\n",
       "      <td>99.6</td>\n",
       "      <td>198.25</td>\n",
       "    </tr>\n",
       "  </tbody>\n",
       "</table>\n",
       "<p>168 rows × 7 columns</p>\n",
       "</div>"
      ],
      "text/plain": [
       "     Biceps  Knee  Thigh    Hip  Abdomen  Chest  Weight\n",
       "239    35.9  38.1   59.2  100.5    100.5  106.4  189.75\n",
       "210    30.9  35.0   51.1   89.0     79.4   91.2  140.50\n",
       "233    27.8  35.9   56.8  100.2     94.9   94.9  161.75\n",
       "78     31.4  37.5   53.5   99.3     95.4   96.4  161.25\n",
       "25     29.9  36.7   55.0   96.5     79.7   89.6  159.25\n",
       "..      ...   ...    ...    ...      ...    ...     ...\n",
       "64     35.3  41.2   65.0  108.3    105.5  105.3  205.50\n",
       "15     31.1  38.7   63.1   99.2     92.8   99.1  162.75\n",
       "228    34.6  37.4   58.4   98.4     89.4  104.0  174.50\n",
       "125    35.6  36.0   60.7  100.0     89.9  101.0  167.00\n",
       "9      35.6  41.7   63.1  104.1     88.6   99.6  198.25\n",
       "\n",
       "[168 rows x 7 columns]"
      ]
     },
     "execution_count": 115,
     "metadata": {},
     "output_type": "execute_result"
    }
   ],
   "source": [
    "X_train,X_test,y_train,y_test=train_test_split(X,y,test_size=0.33,random_state=10)\n",
    "X_train"
   ]
  },
  {
   "cell_type": "code",
   "execution_count": 116,
   "id": "111a11a3-404f-448c-8347-09230e49113c",
   "metadata": {},
   "outputs": [
    {
     "data": {
      "text/plain": [
       "array([[-0.09067593, -0.53613146, -0.07747885, ..., -0.68353321,\n",
       "        -0.91804761, -0.84124583],\n",
       "       [-0.58814329, -0.53613146, -0.13473595, ..., -0.88796263,\n",
       "        -0.85862095, -0.19346239],\n",
       "       [-1.15193963,  0.12859242,  0.03703534, ..., -0.43264256,\n",
       "        -0.59714363, -0.84976929],\n",
       "       ...,\n",
       "       [-0.32282736, -0.53613146,  0.17063524, ...,  1.76032756,\n",
       "         1.22131225,  0.26680479],\n",
       "       [-0.58814329,  1.25031395, -0.65004983, ...,  0.81251844,\n",
       "         0.88852294,  0.40318025],\n",
       "       [ 0.47312041,  1.4995854 , -0.02022175, ...,  1.48156017,\n",
       "         1.37582157,  0.97425249]])"
      ]
     },
     "execution_count": 116,
     "metadata": {},
     "output_type": "execute_result"
    }
   ],
   "source": [
    "sc= StandardScaler()\n",
    "X=sc.fit_transform(X)\n",
    "X"
   ]
  },
  {
   "cell_type": "markdown",
   "id": "0ef5d900-a1df-4c5b-801b-35d0567792c0",
   "metadata": {},
   "source": [
    "## Linear model"
   ]
  },
  {
   "cell_type": "code",
   "execution_count": 117,
   "id": "5e35cd9c-f9e5-497b-b77b-6cf65fa47ddd",
   "metadata": {},
   "outputs": [],
   "source": [
    "model=LinearRegression()"
   ]
  },
  {
   "cell_type": "code",
   "execution_count": 118,
   "id": "147745c7-fd65-4945-aec7-95a0bf6299ae",
   "metadata": {},
   "outputs": [
    {
     "data": {
      "text/plain": [
       "LinearRegression()"
      ]
     },
     "execution_count": 118,
     "metadata": {},
     "output_type": "execute_result"
    }
   ],
   "source": [
    "model.fit(X_train,y_train)"
   ]
  },
  {
   "cell_type": "code",
   "execution_count": 119,
   "id": "2ce3d2e2-f9d4-496b-88d0-b0c47b60772e",
   "metadata": {},
   "outputs": [
    {
     "data": {
      "text/plain": [
       "array([26.94015422, 14.24747436, 24.71079882, 18.32718412, 19.98578136,\n",
       "       19.29902615,  2.638222  , 32.42077281, 31.96515158,  3.44494849,\n",
       "        4.25191519, 18.43048713, 16.28786878, 22.81160638,  7.99777124,\n",
       "       13.10643148, 27.55572844,  5.54218746, 20.28324036, 24.69668555,\n",
       "       25.61340194, 19.18837642, 16.88644289, 16.52643258, 18.13221389,\n",
       "       22.68509674,  7.70561631, 36.96759299,  8.24003812, 36.36874217,\n",
       "       10.0558891 , 24.21110151, 23.62720638, 21.79881135, 10.81186892,\n",
       "       15.53535219, 18.82473581,  7.40588853,  7.00478893, 23.85970495,\n",
       "       22.6079289 , 13.66343735, 25.68089921, 16.37275676, 23.65935481,\n",
       "        8.97091695, 17.5746486 , 21.5017047 , 23.37843703, 21.31380983,\n",
       "       17.54973659, 19.47993986, 29.53819384,  6.47100668, 20.56272828,\n",
       "       18.77256629, 10.48163476, 14.88804785, 23.05653896,  9.43233181,\n",
       "       26.3817108 , 16.12856744, 15.60773183, 15.03440207, 21.72393492,\n",
       "       32.0678733 , 18.59337278, 18.72095011, 11.58892781, 23.52631617,\n",
       "        9.0050316 , 14.03764087, 18.79601111, 22.80587587,  5.06811141,\n",
       "       11.06901479, 14.62578318, 29.14536038, 30.42379422, 16.34834446,\n",
       "       10.01674774, 16.7673479 , 15.69254041, 12.78308693])"
      ]
     },
     "execution_count": 119,
     "metadata": {},
     "output_type": "execute_result"
    }
   ],
   "source": [
    "y_pred= model.predict(X_test)\n",
    "y_pred"
   ]
  },
  {
   "cell_type": "code",
   "execution_count": 120,
   "id": "a773f64b-3cbc-4785-a6b6-45db24282b55",
   "metadata": {},
   "outputs": [
    {
     "data": {
      "text/plain": [
       "-64.02550789523325"
      ]
     },
     "execution_count": 120,
     "metadata": {},
     "output_type": "execute_result"
    }
   ],
   "source": [
    "model.intercept_"
   ]
  },
  {
   "cell_type": "code",
   "execution_count": 121,
   "id": "9f3a56b9-a039-4523-a2ec-5a7e346530c4",
   "metadata": {},
   "outputs": [
    {
     "data": {
      "text/plain": [
       "array([ 0.44702905,  0.12884852,  0.25117444, -0.03002881,  1.07444034,\n",
       "       -0.03614311, -0.24830972])"
      ]
     },
     "execution_count": 121,
     "metadata": {},
     "output_type": "execute_result"
    }
   ],
   "source": [
    "model.coef_"
   ]
  },
  {
   "cell_type": "code",
   "execution_count": 122,
   "id": "d1c6f4e0-1371-4e73-aa6c-0f1f4be21609",
   "metadata": {},
   "outputs": [
    {
     "data": {
      "text/plain": [
       "0.7182886095452256"
      ]
     },
     "execution_count": 122,
     "metadata": {},
     "output_type": "execute_result"
    }
   ],
   "source": [
    "model.score(X_train,y_train)"
   ]
  },
  {
   "cell_type": "code",
   "execution_count": 123,
   "id": "55d0cc13-d380-4bdd-9623-5c6ed8b92152",
   "metadata": {},
   "outputs": [
    {
     "data": {
      "text/plain": [
       "0.7173604427559548"
      ]
     },
     "execution_count": 123,
     "metadata": {},
     "output_type": "execute_result"
    }
   ],
   "source": [
    "model.score(X_test,y_test)"
   ]
  },
  {
   "cell_type": "code",
   "execution_count": 124,
   "id": "e5c9064f-cc8b-45a2-a6fe-957793d15610",
   "metadata": {},
   "outputs": [
    {
     "data": {
      "text/plain": [
       "4.501246466050954"
      ]
     },
     "execution_count": 124,
     "metadata": {},
     "output_type": "execute_result"
    }
   ],
   "source": [
    "mean_squared_error(y_test,y_pred,squared=False)"
   ]
  },
  {
   "cell_type": "markdown",
   "id": "95e07a33-f319-40da-b505-c3ef5bd4a508",
   "metadata": {},
   "source": [
    "## Decision Tree Model"
   ]
  },
  {
   "cell_type": "code",
   "execution_count": 125,
   "id": "79571944-511d-4ff2-a9e6-5e743b8e23ee",
   "metadata": {},
   "outputs": [],
   "source": [
    "model1= DecisionTreeRegressor(max_depth=5)"
   ]
  },
  {
   "cell_type": "code",
   "execution_count": 126,
   "id": "88c7f46c-3eb3-44c4-9045-0b2ecf898b85",
   "metadata": {},
   "outputs": [
    {
     "data": {
      "text/plain": [
       "DecisionTreeRegressor(max_depth=5)"
      ]
     },
     "execution_count": 126,
     "metadata": {},
     "output_type": "execute_result"
    }
   ],
   "source": [
    "model1.fit(X_train,y_train)"
   ]
  },
  {
   "cell_type": "code",
   "execution_count": 127,
   "id": "1eb9bb2f-63c7-44a8-b3e5-b3d2fbdeab7c",
   "metadata": {},
   "outputs": [
    {
     "data": {
      "text/plain": [
       "array([27.44      , 10.4625    , 29.09      , 25.975     , 23.6       ,\n",
       "       20.78947368,  3.7       , 29.09      , 29.09      ,  0.7       ,\n",
       "        0.7       , 20.78947368, 13.45      , 24.1       ,  3.7       ,\n",
       "       13.45      , 27.44      , 10.43461538, 20.6375    , 29.09      ,\n",
       "       29.09      , 20.6375    , 15.6       , 13.45      , 10.4625    ,\n",
       "       24.1       , 13.45      , 29.09      ,  9.6       , 29.09      ,\n",
       "       10.43461538, 29.09      , 25.47272727, 20.78947368, 10.4625    ,\n",
       "       19.51818182, 20.1       , 10.43461538, 10.43461538, 24.1       ,\n",
       "       20.1       , 15.6       , 20.78947368, 15.6       , 31.13333333,\n",
       "        9.6       , 25.975     , 20.78947368, 25.47272727, 20.78947368,\n",
       "       20.78947368, 15.6       , 29.09      ,  3.7       , 20.78947368,\n",
       "       10.4625    , 13.45      , 13.45      , 20.78947368, 10.43461538,\n",
       "       29.09      , 20.78947368, 13.45      , 15.6       , 25.47272727,\n",
       "       29.09      , 10.4625    , 25.47272727, 13.45      , 20.6375    ,\n",
       "       10.43461538, 10.43461538, 15.43333333, 20.1       , 10.43461538,\n",
       "       10.43461538, 10.4625    , 29.09      , 29.09      , 19.51818182,\n",
       "       10.43461538, 20.78947368, 10.43461538, 15.43333333])"
      ]
     },
     "execution_count": 127,
     "metadata": {},
     "output_type": "execute_result"
    }
   ],
   "source": [
    "y_pred1= model1.predict(X_test)\n",
    "y_pred1"
   ]
  },
  {
   "cell_type": "code",
   "execution_count": 128,
   "id": "a3f74c4f-36fc-4d30-a3f6-30144bed77c0",
   "metadata": {},
   "outputs": [
    {
     "data": {
      "text/plain": [
       "0.8572878275336655"
      ]
     },
     "execution_count": 128,
     "metadata": {},
     "output_type": "execute_result"
    }
   ],
   "source": [
    "model1.score(X_train,y_train)"
   ]
  },
  {
   "cell_type": "code",
   "execution_count": 129,
   "id": "a1973100-acb1-4df6-93b1-f689b08c76b9",
   "metadata": {},
   "outputs": [
    {
     "data": {
      "text/plain": [
       "0.611425251390618"
      ]
     },
     "execution_count": 129,
     "metadata": {},
     "output_type": "execute_result"
    }
   ],
   "source": [
    "model1.score(X_test,y_test)"
   ]
  },
  {
   "cell_type": "code",
   "execution_count": 130,
   "id": "83d0a596-9a4b-46c8-97b5-13b6fda49e6f",
   "metadata": {},
   "outputs": [
    {
     "data": {
      "text/plain": [
       "5.277808262864325"
      ]
     },
     "execution_count": 130,
     "metadata": {},
     "output_type": "execute_result"
    }
   ],
   "source": [
    "mean_squared_error(y_test,y_pred1,squared=False)"
   ]
  },
  {
   "cell_type": "markdown",
   "id": "346a4cc1-cbad-4bb3-8017-22c12a9ee7b6",
   "metadata": {},
   "source": [
    "## using Voting Regressor model"
   ]
  },
  {
   "cell_type": "code",
   "execution_count": 164,
   "id": "ea9c346d-36b4-4af2-8d63-8002f17cab33",
   "metadata": {},
   "outputs": [],
   "source": [
    "estimator = []\n",
    "estimator.append(('LR', LinearRegression()))\n",
    "estimator.append(('RFR',RandomForestRegressor(max_depth=20)))\n",
    "estimator.append(('DTC', DecisionTreeRegressor(max_depth=30)))"
   ]
  },
  {
   "cell_type": "code",
   "execution_count": 165,
   "id": "e63530b5-897c-42f0-a079-d8bf4c60e53d",
   "metadata": {},
   "outputs": [
    {
     "data": {
      "text/plain": [
       "VotingRegressor(estimators=[('LR', LinearRegression()),\n",
       "                            ('RFR', RandomForestRegressor(max_depth=20)),\n",
       "                            ('DTC', DecisionTreeRegressor(max_depth=30))])"
      ]
     },
     "execution_count": 165,
     "metadata": {},
     "output_type": "execute_result"
    }
   ],
   "source": [
    "model2= VotingRegressor(estimators=estimator)\n",
    "model2.fit(X_train, y_train)"
   ]
  },
  {
   "cell_type": "code",
   "execution_count": 166,
   "id": "aae6cf05-b915-40d9-836b-d49be74b9544",
   "metadata": {},
   "outputs": [
    {
     "data": {
      "text/plain": [
       "array([26.73438474, 11.90615812, 28.66726627, 21.43272804, 20.99459379,\n",
       "       19.43400872,  4.947074  , 31.87259094, 27.93338386,  4.69498283,\n",
       "        4.39197173, 20.91616238, 18.24362293, 23.90920213,  6.40159041,\n",
       "       16.31147716, 26.77424281,  6.11439582, 20.77241345, 25.59489518,\n",
       "       27.93280065, 18.86245881, 17.14148096, 14.23814419, 16.0440713 ,\n",
       "       23.66469891, 10.7758721 , 31.99819766,  9.44734604, 29.80291406,\n",
       "        7.4436297 , 28.01903384, 22.19206879, 20.04193712, 10.52795631,\n",
       "       17.82778406, 20.91591194,  9.50562951,  9.28459631, 24.88956832,\n",
       "       22.47630963, 14.35847912, 22.3569664 , 18.25491892, 25.82911827,\n",
       "        9.26363898, 21.68654953, 20.93756823, 22.21981234, 22.53560328,\n",
       "       19.77957886, 18.59897995, 29.94006461,  5.60766889, 18.92124276,\n",
       "       15.67585543,  9.53421159, 14.05268262, 22.62717965,  8.28477727,\n",
       "       25.84423693, 19.07452248, 13.52224394, 16.47446736, 23.54864497,\n",
       "       28.32362443, 15.25245759, 21.81065004, 15.0946426 , 21.25643872,\n",
       "        9.0786772 , 12.55988029, 17.9770037 , 22.50962529,  9.3577038 ,\n",
       "       10.81000493, 13.68859439, 30.10545346, 31.09893141, 18.97144815,\n",
       "       12.43658258, 19.40578263, 12.2888468 , 15.40369564])"
      ]
     },
     "execution_count": 166,
     "metadata": {},
     "output_type": "execute_result"
    }
   ],
   "source": [
    "y_pred2 = model2.predict(X_test)\n",
    "y_pred2"
   ]
  },
  {
   "cell_type": "code",
   "execution_count": 167,
   "id": "33857cba-c4b3-464e-b8d6-4cc413dcba63",
   "metadata": {},
   "outputs": [
    {
     "data": {
      "text/plain": [
       "0.9411886460830515"
      ]
     },
     "execution_count": 167,
     "metadata": {},
     "output_type": "execute_result"
    }
   ],
   "source": [
    "model2.score(X_train,y_train)"
   ]
  },
  {
   "cell_type": "code",
   "execution_count": 168,
   "id": "a5878956-df64-4ef3-affa-10a26666454b",
   "metadata": {},
   "outputs": [
    {
     "data": {
      "text/plain": [
       "0.7131231862254799"
      ]
     },
     "execution_count": 168,
     "metadata": {},
     "output_type": "execute_result"
    }
   ],
   "source": [
    "model2.score(X_test,y_test)"
   ]
  },
  {
   "cell_type": "code",
   "execution_count": 170,
   "id": "fbdc56b2-2628-45e4-a8dd-baa0bf23a528",
   "metadata": {},
   "outputs": [
    {
     "data": {
      "text/plain": [
       "4.5348616877641"
      ]
     },
     "execution_count": 170,
     "metadata": {},
     "output_type": "execute_result"
    }
   ],
   "source": [
    "mean_squared_error(y_test,y_pred2,squared=False)"
   ]
  },
  {
   "cell_type": "code",
   "execution_count": null,
   "id": "c9fefbeb-9055-44a2-82ab-a198f371d9ad",
   "metadata": {},
   "outputs": [],
   "source": []
  }
 ],
 "metadata": {
  "kernelspec": {
   "display_name": "Python 3",
   "language": "python",
   "name": "python3"
  },
  "language_info": {
   "codemirror_mode": {
    "name": "ipython",
    "version": 3
   },
   "file_extension": ".py",
   "mimetype": "text/x-python",
   "name": "python",
   "nbconvert_exporter": "python",
   "pygments_lexer": "ipython3",
   "version": "3.8.8"
  }
 },
 "nbformat": 4,
 "nbformat_minor": 5
}
